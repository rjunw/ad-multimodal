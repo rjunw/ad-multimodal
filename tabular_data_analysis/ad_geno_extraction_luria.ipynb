{
 "cells": [
  {
   "cell_type": "code",
   "execution_count": null,
   "metadata": {},
   "outputs": [],
   "source": [
    "import pandas as pd\n",
    "import gzip\n",
    "from tqdm import tqdm"
   ]
  },
  {
   "cell_type": "code",
   "execution_count": null,
   "metadata": {},
   "outputs": [],
   "source": [
    "!zcat ukb_geno.alt_variant_IDs.tsv.gz | wc -l"
   ]
  },
  {
   "cell_type": "code",
   "execution_count": null,
   "metadata": {},
   "outputs": [],
   "source": [
    "!zgrep -F -f snps.tsv ukb_geno.alt_variant_IDs.tsv.gz > ids1.tsv"
   ]
  },
  {
   "cell_type": "code",
   "execution_count": null,
   "metadata": {},
   "outputs": [],
   "source": [
    "with open(\"snps.tsv\", \"r\") as f:\n",
    "    snps = f.readlines()\n",
    "snps = list(map(lambda x:x.strip(), snps))"
   ]
  },
  {
   "cell_type": "code",
   "execution_count": null,
   "metadata": {},
   "outputs": [],
   "source": [
    "snps[:5]"
   ]
  },
  {
   "cell_type": "code",
   "execution_count": null,
   "metadata": {},
   "outputs": [],
   "source": [
    "with gzip.open(\"ukb_geno.alt_variant_IDs.tsv.gz\", \"rb\") as f:\n",
    "    for line in tqdm(f):\n",
    "#         line = str(line)\n",
    "        line = str(line).strip().split(\"\\t\")\n",
    "        if len(line)>1 and line[1] in snps:\n",
    "            print(line)\n",
    "            break"
   ]
  },
  {
   "cell_type": "code",
   "execution_count": null,
   "metadata": {},
   "outputs": [],
   "source": [
    "matches = pd.read_csv(\"ids1.tsv\", header=None, sep=\"\\t\", names=[\"pos\", \"rs\"])\n",
    "matches[\"pos\"][matches[\"rs\"].isin(snps)].value_counts()"
   ]
  },
  {
   "cell_type": "code",
   "execution_count": null,
   "metadata": {},
   "outputs": [],
   "source": [
    "matched = matches[\"pos\"][matches[\"rs\"].isin(snps)].value_counts().index.tolist()\n",
    "with open(\"matched.tsv\", \"w\") as f:\n",
    "    f.write(\"\\n\".join(matched))"
   ]
  },
  {
   "cell_type": "code",
   "execution_count": null,
   "metadata": {},
   "outputs": [],
   "source": [
    "%%bash\n",
    "\n",
    "./plink2 \\\n",
    "  --export vcf \\\n",
    "  --keep pts1.tsv \\ \n",
    "  --out extracted_snps_hm3_pt1 \\\n",
    "  --pfile /net/bmc-lab5/data/kellis/group/tanigawa/data/ukb21942/geno/ukb_genoHM3"
   ]
  },
  {
   "cell_type": "code",
   "execution_count": null,
   "metadata": {},
   "outputs": [],
   "source": [
    "%%bash\n",
    "\n",
    "./plink2 \\\n",
    "  --export vcf \\\n",
    "  --extract matched.tsv \\\n",
    "  --out extracted_snps \\\n",
    "  --bpfile /net/bmc-lab5/data/kellis/group/tanigawa/data/ukb21942/geno/ukb_geno \\"
   ]
  },
  {
   "cell_type": "code",
   "execution_count": null,
   "metadata": {},
   "outputs": [],
   "source": [
    "!ls -l "
   ]
  },
  {
   "cell_type": "code",
   "execution_count": null,
   "metadata": {},
   "outputs": [],
   "source": [
    "! cat extracted_snps_hm3.vcf"
   ]
  },
  {
   "cell_type": "code",
   "execution_count": null,
   "metadata": {},
   "outputs": [],
   "source": [
    "with open(\"extracted_snps_hm3.vcf\", \"r\") as f:\n",
    "    for line in f:\n",
    "        if line.startswith(\"#CHROM\"):\n",
    "            break"
   ]
  },
  {
   "cell_type": "code",
   "execution_count": null,
   "metadata": {},
   "outputs": [],
   "source": [
    "line[:200]"
   ]
  },
  {
   "cell_type": "code",
   "execution_count": null,
   "metadata": {},
   "outputs": [],
   "source": []
  }
 ],
 "metadata": {
  "kernelspec": {
   "display_name": "Python 3 (ipykernel)",
   "language": "python",
   "name": "python3"
  },
  "language_info": {
   "codemirror_mode": {
    "name": "ipython",
    "version": 3
   },
   "file_extension": ".py",
   "mimetype": "text/x-python",
   "name": "python",
   "nbconvert_exporter": "python",
   "pygments_lexer": "ipython3",
   "version": "3.8.5"
  }
 },
 "nbformat": 4,
 "nbformat_minor": 4
}
