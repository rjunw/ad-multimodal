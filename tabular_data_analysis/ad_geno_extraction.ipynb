{
 "cells": [
  {
   "cell_type": "code",
   "execution_count": 1,
   "id": "5b56b638-44f7-4b33-95bf-85f42342afd0",
   "metadata": {},
   "outputs": [],
   "source": [
    "import pandas as pd\n",
    "import numpy as np\n",
    "import matplotlib.pyplot as plt\n",
    "\n",
    "pd.set_option('display.max_columns', None)"
   ]
  },
  {
   "cell_type": "code",
   "execution_count": 36,
   "id": "47e8f1df-7cc8-4c37-a1d0-6f3e25c131c4",
   "metadata": {},
   "outputs": [
    {
     "name": "stdout",
     "output_type": "stream",
     "text": [
      "2544 snps.tsv\n"
     ]
    }
   ],
   "source": [
    "!wc -l snps.tsv"
   ]
  },
  {
   "cell_type": "code",
   "execution_count": 2,
   "id": "3b74680b-49db-4d3c-a491-0ac36f76de96",
   "metadata": {},
   "outputs": [],
   "source": [
    "snps = pd.read_csv(\"gwas-association-downloaded_2023-04-11-EFO_1001870-withChildTraits.tsv\", sep=\"\\t\")\n",
    "snps1 = pd.read_csv(\"efotraits_MONDO_0004975-associations-2023-04-11.csv\")\n"
   ]
  },
  {
   "cell_type": "code",
   "execution_count": 3,
   "id": "6cf5ea0f-39a7-43b4-8dc2-50d3a17ead0b",
   "metadata": {},
   "outputs": [
    {
     "data": {
      "text/plain": [
       "Index(['DATE ADDED TO CATALOG', 'PUBMEDID', 'FIRST AUTHOR', 'DATE', 'JOURNAL',\n",
       "       'LINK', 'STUDY', 'DISEASE/TRAIT', 'INITIAL SAMPLE SIZE',\n",
       "       'REPLICATION SAMPLE SIZE', 'REGION', 'CHR_ID', 'CHR_POS',\n",
       "       'REPORTED GENE(S)', 'MAPPED_GENE', 'UPSTREAM_GENE_ID',\n",
       "       'DOWNSTREAM_GENE_ID', 'SNP_GENE_IDS', 'UPSTREAM_GENE_DISTANCE',\n",
       "       'DOWNSTREAM_GENE_DISTANCE', 'STRONGEST SNP-RISK ALLELE', 'SNPS',\n",
       "       'MERGED', 'SNP_ID_CURRENT', 'CONTEXT', 'INTERGENIC',\n",
       "       'RISK ALLELE FREQUENCY', 'P-VALUE', 'PVALUE_MLOG', 'P-VALUE (TEXT)',\n",
       "       'OR or BETA', '95% CI (TEXT)', 'PLATFORM [SNPS PASSING QC]', 'CNV',\n",
       "       'MAPPED_TRAIT', 'MAPPED_TRAIT_URI', 'STUDY ACCESSION',\n",
       "       'GENOTYPING TECHNOLOGY'],\n",
       "      dtype='object')"
      ]
     },
     "execution_count": 3,
     "metadata": {},
     "output_type": "execute_result"
    }
   ],
   "source": [
    "snps.columns"
   ]
  },
  {
   "cell_type": "code",
   "execution_count": 32,
   "id": "6b7e8f33-5001-4c44-9614-fa6f353bc0ba",
   "metadata": {},
   "outputs": [
    {
     "data": {
      "text/html": [
       "<div>\n",
       "<style scoped>\n",
       "    .dataframe tbody tr th:only-of-type {\n",
       "        vertical-align: middle;\n",
       "    }\n",
       "\n",
       "    .dataframe tbody tr th {\n",
       "        vertical-align: top;\n",
       "    }\n",
       "\n",
       "    .dataframe thead th {\n",
       "        text-align: right;\n",
       "    }\n",
       "</style>\n",
       "<table border=\"1\" class=\"dataframe\">\n",
       "  <thead>\n",
       "    <tr style=\"text-align: right;\">\n",
       "      <th></th>\n",
       "      <th>Variant and risk allele</th>\n",
       "      <th>P-value</th>\n",
       "      <th>RAF</th>\n",
       "      <th>Beta</th>\n",
       "      <th>CI</th>\n",
       "      <th>Mapped gene</th>\n",
       "      <th>Reported trait</th>\n",
       "      <th>Trait(s)</th>\n",
       "      <th>Study accession</th>\n",
       "      <th>Location</th>\n",
       "      <th>risk_allele</th>\n",
       "      <th>hap_ids</th>\n",
       "      <th>loc</th>\n",
       "    </tr>\n",
       "  </thead>\n",
       "  <tbody>\n",
       "    <tr>\n",
       "      <th>0</th>\n",
       "      <td>rs116530595-&lt;b&gt;T&lt;/b&gt;</td>\n",
       "      <td>9 x 10-6</td>\n",
       "      <td>0.018</td>\n",
       "      <td>0.26 unit increase</td>\n",
       "      <td>[0.14-0.38]</td>\n",
       "      <td>C9orf152, TXN</td>\n",
       "      <td>Late-onset Alzheimer's disease</td>\n",
       "      <td>late-onset Alzheimers disease</td>\n",
       "      <td>GCST003815</td>\n",
       "      <td>9:110213589</td>\n",
       "      <td>T</td>\n",
       "      <td>9:110213589:T</td>\n",
       "      <td>9:110213589</td>\n",
       "    </tr>\n",
       "    <tr>\n",
       "      <th>1</th>\n",
       "      <td>rs2244526-&lt;b&gt;T&lt;/b&gt;</td>\n",
       "      <td>6 x 10-6</td>\n",
       "      <td>0.824</td>\n",
       "      <td>0.09 unit decrease</td>\n",
       "      <td>[0.051-0.129]</td>\n",
       "      <td>SELP</td>\n",
       "      <td>Late-onset Alzheimer's disease</td>\n",
       "      <td>late-onset Alzheimers disease</td>\n",
       "      <td>GCST003815</td>\n",
       "      <td>1:169617708</td>\n",
       "      <td>T</td>\n",
       "      <td>1:169617708:T</td>\n",
       "      <td>1:169617708</td>\n",
       "    </tr>\n",
       "    <tr>\n",
       "      <th>2</th>\n",
       "      <td>rs72998574-&lt;b&gt;T&lt;/b&gt;</td>\n",
       "      <td>2 x 10-6</td>\n",
       "      <td>0.022</td>\n",
       "      <td>0.28 unit increase</td>\n",
       "      <td>[0.16-0.4]</td>\n",
       "      <td>R3HDM2P2</td>\n",
       "      <td>Late-onset Alzheimer's disease</td>\n",
       "      <td>late-onset Alzheimers disease</td>\n",
       "      <td>GCST003815</td>\n",
       "      <td>6:103969846</td>\n",
       "      <td>T</td>\n",
       "      <td>6:103969846:T</td>\n",
       "      <td>6:103969846</td>\n",
       "    </tr>\n",
       "    <tr>\n",
       "      <th>3</th>\n",
       "      <td>rs1034435-&lt;b&gt;A&lt;/b&gt;</td>\n",
       "      <td>3 x 10-6</td>\n",
       "      <td>0.659</td>\n",
       "      <td>0.07 unit decrease</td>\n",
       "      <td>[0.031-0.109]</td>\n",
       "      <td>TAFA5</td>\n",
       "      <td>Late-onset Alzheimer's disease</td>\n",
       "      <td>late-onset Alzheimers disease</td>\n",
       "      <td>GCST003815</td>\n",
       "      <td>22:48492443</td>\n",
       "      <td>A</td>\n",
       "      <td>22:48492443:A</td>\n",
       "      <td>22:48492443</td>\n",
       "    </tr>\n",
       "    <tr>\n",
       "      <th>4</th>\n",
       "      <td>rs144216026-&lt;b&gt;A&lt;/b&gt;</td>\n",
       "      <td>8 x 10-6</td>\n",
       "      <td>0.017</td>\n",
       "      <td>0.31 unit increase</td>\n",
       "      <td>[0.17-0.45]</td>\n",
       "      <td>ABCA8</td>\n",
       "      <td>Late-onset Alzheimer's disease</td>\n",
       "      <td>late-onset Alzheimers disease</td>\n",
       "      <td>GCST003815</td>\n",
       "      <td>17:68920354</td>\n",
       "      <td>A</td>\n",
       "      <td>17:68920354:A</td>\n",
       "      <td>17:68920354</td>\n",
       "    </tr>\n",
       "  </tbody>\n",
       "</table>\n",
       "</div>"
      ],
      "text/plain": [
       "  Variant and risk allele   P-value    RAF                Beta             CI  \\\n",
       "0    rs116530595-<b>T</b>  9 x 10-6  0.018  0.26 unit increase    [0.14-0.38]   \n",
       "1      rs2244526-<b>T</b>  6 x 10-6  0.824  0.09 unit decrease  [0.051-0.129]   \n",
       "2     rs72998574-<b>T</b>  2 x 10-6  0.022  0.28 unit increase     [0.16-0.4]   \n",
       "3      rs1034435-<b>A</b>  3 x 10-6  0.659  0.07 unit decrease  [0.031-0.109]   \n",
       "4    rs144216026-<b>A</b>  8 x 10-6  0.017  0.31 unit increase    [0.17-0.45]   \n",
       "\n",
       "     Mapped gene                  Reported trait  \\\n",
       "0  C9orf152, TXN  Late-onset Alzheimer's disease   \n",
       "1           SELP  Late-onset Alzheimer's disease   \n",
       "2       R3HDM2P2  Late-onset Alzheimer's disease   \n",
       "3          TAFA5  Late-onset Alzheimer's disease   \n",
       "4          ABCA8  Late-onset Alzheimer's disease   \n",
       "\n",
       "                        Trait(s) Study accession     Location risk_allele  \\\n",
       "0  late-onset Alzheimers disease      GCST003815  9:110213589           T   \n",
       "1  late-onset Alzheimers disease      GCST003815  1:169617708           T   \n",
       "2  late-onset Alzheimers disease      GCST003815  6:103969846           T   \n",
       "3  late-onset Alzheimers disease      GCST003815  22:48492443           A   \n",
       "4  late-onset Alzheimers disease      GCST003815  17:68920354           A   \n",
       "\n",
       "         hap_ids          loc  \n",
       "0  9:110213589:T  9:110213589  \n",
       "1  1:169617708:T  1:169617708  \n",
       "2  6:103969846:T  6:103969846  \n",
       "3  22:48492443:A  22:48492443  \n",
       "4  17:68920354:A  17:68920354  "
      ]
     },
     "execution_count": 32,
     "metadata": {},
     "output_type": "execute_result"
    }
   ],
   "source": [
    "snps1.head()"
   ]
  },
  {
   "cell_type": "code",
   "execution_count": 31,
   "id": "61d00228-5da3-446f-add0-402a2b99f857",
   "metadata": {},
   "outputs": [],
   "source": [
    "snps1[\"risk_allele\"] = snps1[\"Variant and risk allele\"].apply(lambda x:x.split(\"-<b>\")[1]).str[0].tolist()\n",
    "snps1[\"loc\"] = snps1[\"Location\"].str.split(\"|\").str[0]\n",
    "snps1[\"hap_ids\"] = snps1[\"loc\"] + \":\" + snps1[\"risk_allele\"]"
   ]
  },
  {
   "cell_type": "code",
   "execution_count": 34,
   "id": "bdab7e9f-4bd1-49e9-adb0-8e97db368dc3",
   "metadata": {},
   "outputs": [
    {
     "name": "stdout",
     "output_type": "stream",
     "text": [
      "2545 1327\n"
     ]
    }
   ],
   "source": [
    "snps_list = snps1[\"hap_ids\"].tolist()\n",
    "\n",
    "final_list = []\n",
    "for snp in snps_list:\n",
    "    vals = snp.split(\":\")\n",
    "    if (len(vals) != 3 or vals[0] not in [\"X\", \"Y\"] + list(map(str, list(range(1,23)))) \n",
    "       or not vals[1].isnumeric() or vals[2] not in [\"A\", \"C\", \"T\", \"G\"]):\n",
    "        # print(snp)\n",
    "        continue\n",
    "    final_list.append(snp)\n",
    "print(len(snps_list), len(final_list))"
   ]
  },
  {
   "cell_type": "code",
   "execution_count": 35,
   "id": "b7eb7609-a595-42e1-9edb-b44ce06a4e3b",
   "metadata": {},
   "outputs": [],
   "source": [
    "with open(\"snp_ids_v2.tsv\", \"w\") as f:\n",
    "    f.write(\"\\n\".join(final_list))"
   ]
  },
  {
   "cell_type": "code",
   "execution_count": 18,
   "id": "4dd06ee4-e73d-4194-94d4-6f39a1af9ad7",
   "metadata": {},
   "outputs": [
    {
     "data": {
      "text/plain": [
       "['X',\n",
       " 'Y',\n",
       " '1',\n",
       " '2',\n",
       " '3',\n",
       " '4',\n",
       " '5',\n",
       " '6',\n",
       " '7',\n",
       " '8',\n",
       " '9',\n",
       " '10',\n",
       " '11',\n",
       " '12',\n",
       " '13',\n",
       " '14',\n",
       " '15',\n",
       " '16',\n",
       " '17',\n",
       " '18',\n",
       " '19',\n",
       " '20',\n",
       " '21',\n",
       " '22']"
      ]
     },
     "execution_count": 18,
     "metadata": {},
     "output_type": "execute_result"
    }
   ],
   "source": [
    "[\"X\", \"Y\"] + list(map(str, list(range(1,23))))"
   ]
  },
  {
   "cell_type": "code",
   "execution_count": null,
   "id": "066552af-5781-4390-9711-2e54c2b71ce0",
   "metadata": {},
   "outputs": [],
   "source": []
  }
 ],
 "metadata": {
  "kernelspec": {
   "display_name": "Python 3 (ipykernel)",
   "language": "python",
   "name": "python3"
  },
  "language_info": {
   "codemirror_mode": {
    "name": "ipython",
    "version": 3
   },
   "file_extension": ".py",
   "mimetype": "text/x-python",
   "name": "python",
   "nbconvert_exporter": "python",
   "pygments_lexer": "ipython3",
   "version": "3.8.5"
  }
 },
 "nbformat": 4,
 "nbformat_minor": 5
}
