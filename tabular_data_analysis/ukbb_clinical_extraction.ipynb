{
 "cells": [
  {
   "cell_type": "code",
   "execution_count": null,
   "id": "0d20fdb8-6e16-444a-a9eb-6f232c3093a4",
   "metadata": {},
   "outputs": [],
   "source": [
    "import gzip\n",
    "from tqdm import tqdm\n",
    "import pandas as pd\n",
    "import numpy as np"
   ]
  },
  {
   "cell_type": "code",
   "execution_count": null,
   "id": "390472b1-3ab0-4b51-b510-c8aca20709b6",
   "metadata": {},
   "outputs": [],
   "source": [
    "patients = {}\n",
    "family_history = { #10\n",
    "    \"20107\": \"illness of father\",\n",
    "    \"20110\": \"illness of mother\",\n",
    "    \"20111\": \"illness of siblings\",\n",
    "}\n",
    "icd_codes = [\"G309\", \"G301\", \"G300\", \"G308\", \"F000\", \"F002\", \"F009\", \"F001\"]\n",
    "ad = { # G309, G301, G300, G308, F000, F002, F009, F001\n",
    "    \"41202\": \"main ICD10\",\n",
    "    \"41204\": \"secondary ICD10\", \n",
    "    \"41270\": \"Diagnoses - ICD10\"\n",
    "}\n",
    "fields = {\n",
    "    \"34\": \"year of birth\", \n",
    "    \"50\": \"height\",\n",
    "    \"189\": \"townsend deprivation index\",\n",
    "    \"3062\": \"Forced vital capacity\",\n",
    "    \"3063\": \"FEV1\",\n",
    "    \"3064\": \"Peak expiratory flow\",\n",
    "    \"3148\": \"Heel bone mineral density\",\n",
    "    \"4079\": \"Diastolic blood pressure\", \n",
    "    \"4080\": \"Systolic blood pressure\",\n",
    "    \"21001\": \"BMI\",\n",
    "    \"21002\": \"weight\",\n",
    "    \"30000\": \"White blood cell (leukocyte) count\", \n",
    "    \"30010\": \"Red blood cell (erythrocyte) count\", \n",
    "    \"30020\": \"Haemoglobin concentration\",\n",
    "    \"30030\": \"Haematocrit percentage\", \n",
    "    \"30040\": \"Mean corpuscular volume\",\n",
    "    \"30060\": \"Mean corpuscular haemoglobin concentration\",\n",
    "    \"30080\": \"Platelet count\", \n",
    "    \"30090\": \"Platelet crit\", \n",
    "    \"30100\": \"Mean platelet (thrombocyte) volume\",\n",
    "    \"30120\": \"Lymphocyte count\",\n",
    "    \"30130\": \"Monocyte count\",\n",
    "    \"30140\": \"Neutrophill count\",\n",
    "    \"30150\": \"Eosinophill count\",\n",
    "    \"30160\": \"Basophill count\", \n",
    "    \"30250\": \"Reticulocyte count\",\n",
    "    \"30505\": \"Microalbumin in urine result flag\", \n",
    "    \"30515\": \"Creatinine (enzymatic) in urine result flag\", \n",
    "    \"30525\": \"Potassium in urine result flag\", \n",
    "    \"30535\": \"Sodium in urine result flag\", \n",
    "    \"30600\": \"Albumin\", \n",
    "    \"30610\": \"Alkaline phosphatase\", \n",
    "    \"30620\": \"Alanine aminotransferase\", \n",
    "    \"30630\": \"Apolipoprotein A\",\n",
    "    \"30640\": \"Apolipoprotein B\", \n",
    "    \"30650\": \"Aspartate aminotransferase\", \n",
    "    \"30660\": \"Direct bilirubin\", \n",
    "    \"30670\": \"Urea\", \n",
    "    \"30680\": \"Calcium\", \n",
    "    \"30690\": \"Cholesterol\", \n",
    "    \"30700\": \"Creatinine\", \n",
    "    \"30710\": \"C-reactive protein\", \n",
    "    \"30720\": \"Cystatin C\", \n",
    "    \"30730\": \"Gamma glutamyltransferase\", \n",
    "    \"30740\": \"Glucose\", \n",
    "    \"30750\": \"Glycated haemoglobin (HbA1c)\", \n",
    "    \"30760\": \"HDL cholesterol\", \n",
    "    \"30770\": \"IGF-1\", \n",
    "    \"30780\": \"LDL direct\", \n",
    "    \"30790\": \"Lipoprotein A\", \n",
    "    \"30800\": \"Oestradiol\", \n",
    "    \"30810\": \"Phosphate\", \n",
    "    \"30820\": \"Rheumatoid factor\", \n",
    "    \"30830\": \"SHBG\", \n",
    "    \"30840\": \"Total bilirubin\", \n",
    "    \"30850\": \"Testosterone\", \n",
    "    \"30860\": \"Total protein\", \n",
    "    \"30870\": \"Triglycerides\", \n",
    "    \"30880\": \"Urate\", \n",
    "    \"30890\": \"Vitamin D\"\n",
    "}\n",
    "\n",
    "# \"22009\": \"genetic principal components\",\n",
    "\n",
    "cols = [\n",
    "    \"34\",\"50\",\"189\",\"3062\",\"3063\",\"3064\",\"3148\",\"4079\",\n",
    "    \"4080\",\"21001\",\"21002\",\"30000\",\"30010\",\"30020\",\n",
    "    \"30030\",\"30040\",\"30060\",\"30080\",\"30090\",\"30100\",\"30120\",\n",
    "    \"30130\",\"30140\",\"30150\",\"30160\",\"30250\",\"30505\",\"30515\",\n",
    "    \"30525\",\"30535\",\"30600\",\"30610\",\"30620\",\"30630\",\"30640\",\n",
    "    \"30650\",\"30660\",\"30670\",\"30680\",\"30690\",\"30700\",\"30710\",\n",
    "    \"30720\",\"30730\",\"30740\",\"30750\",\"30760\",\"30770\",\"30780\",\n",
    "    \"30790\",\"30800\",\"30810\",\"30820\",\"30830\",\"30840\",\"30850\",\n",
    "    \"30860\",\"30870\",\"30880\",\"30890\", \"22009\"\n",
    "]\n",
    "colnames = [\"AD\", \"family history\"] + [fields[a] for a in cols[:-1]] + [f\"gcp {i}\" for i in range(1,41)]\n",
    "\n",
    "with gzip.open('ukbb_tab/ukb47948.long.tsv.gz', 'rb') as f:\n",
    "    skip=1\n",
    "    for line in tqdm(f):\n",
    "        if skip: \n",
    "            skip -=1\n",
    "            continue\n",
    "        line = line.decode().strip().split(\"\\t\")\n",
    "        if line[0] not in patients:\n",
    "            patients[line[0]] = [False, False] + [\"\"]*(len(cols)+39)\n",
    "        if line[1] in family_history and line[-1] == \"10\":\n",
    "            patients[line[0]][1] = True\n",
    "        elif line[1] in ad and line[-1] in icd_codes:\n",
    "            patients[line[0]][0] = True\n",
    "        elif line[1] in fields and line[2]==\"0\" and line[3]==\"0\":\n",
    "            patients[line[0]][cols.index(line[1])+2] = line[-1]\n",
    "        elif line[1] == \"22009\" and int(line[3])<= 40: # \"22009\": \"genetic principal components\",\n",
    "            patients[line[0]][cols.index(line[1])+2 + int(line[3])-1] = line[-1]"
   ]
  },
  {
   "cell_type": "code",
   "execution_count": null,
   "id": "add06a4c-8543-452f-aa2a-befe9d75fccc",
   "metadata": {},
   "outputs": [],
   "source": [
    "colnames = [\"AD\", \"family history\"] + [fields[a] for a in cols[:-1]] + [f\"genotype principle component {i}\" for i in range(1,41)]\n",
    "pts = pd.DataFrame.from_dict(patients, orient='index', columns=colnames)\n",
    "pts1 = pts.apply(pd.to_numeric, errors='ignore')"
   ]
  },
  {
   "cell_type": "code",
   "execution_count": null,
   "id": "62f08d30-c7a1-498a-a8bf-a6fceb2832c4",
   "metadata": {},
   "outputs": [],
   "source": [
    "pts1.head()"
   ]
  },
  {
   "cell_type": "code",
   "execution_count": null,
   "id": "4ab3312c-745c-4551-963d-9bb8ca423018",
   "metadata": {},
   "outputs": [],
   "source": [
    "pts1[pts1[\"AD\"]==True].shape"
   ]
  },
  {
   "cell_type": "code",
   "execution_count": null,
   "id": "27a0d190-924a-4895-a555-11082d72a2b6",
   "metadata": {},
   "outputs": [],
   "source": [
    "pd.options.display.max_rows = 999\n",
    "(pts1.isna().mean(axis=0) < 0.01).index"
   ]
  },
  {
   "cell_type": "code",
   "execution_count": null,
   "id": "99613f96-ac1d-4802-8fc5-2d09fde401b2",
   "metadata": {},
   "outputs": [],
   "source": [
    "pts2 = pts1.dropna(subset=(pts1.isna().mean(axis=0) < 0.01).index)"
   ]
  },
  {
   "cell_type": "code",
   "execution_count": null,
   "id": "44756aa5-8dcf-403f-bef4-8807a5a2f1e1",
   "metadata": {},
   "outputs": [],
   "source": [
    "pts2.shape"
   ]
  },
  {
   "cell_type": "code",
   "execution_count": null,
   "id": "c443941a-72a1-4949-a911-b9d0ea398b3c",
   "metadata": {},
   "outputs": [],
   "source": [
    "pts1.isna().mean(axis=0)"
   ]
  },
  {
   "cell_type": "code",
   "execution_count": null,
   "id": "ad212529-7303-4cf6-bc39-c504ecb0ed6a",
   "metadata": {},
   "outputs": [],
   "source": [
    "true_idx = list(pts1[pts1[\"AD\"]==True].index)\n",
    "np.random.seed(1)\n",
    "false_idx_subset = list(np.random.choice(pts1[pts1[\"AD\"]==False].index, size=50000, replace=False))\n",
    "pts_subset = pts1.loc[true_idx + false_idx_subset]"
   ]
  },
  {
   "cell_type": "code",
   "execution_count": null,
   "id": "1dd0a98f-7eae-4e26-99f5-0ab461d73a00",
   "metadata": {},
   "outputs": [],
   "source": [
    "from ydata_profiling import ProfileReport\n",
    "profile = ProfileReport(pts1, title=\"patients\")"
   ]
  },
  {
   "cell_type": "code",
   "execution_count": null,
   "id": "95cd2a47-7dbf-48d9-a82b-64017da84972",
   "metadata": {},
   "outputs": [],
   "source": [
    "profile.to_file(\"your_report.html\")"
   ]
  },
  {
   "cell_type": "code",
   "execution_count": null,
   "id": "e0148489-7719-40a5-862c-52081a1eace2",
   "metadata": {},
   "outputs": [],
   "source": [
    "pts1.to_csv(\"AD_patients.csv\")\n",
    "pts_subset.to_csv(\"AD_patients_subset.csv\")"
   ]
  },
  {
   "cell_type": "code",
   "execution_count": null,
   "id": "0efa1baf-d130-4314-80c2-dfc55a2ebe61",
   "metadata": {},
   "outputs": [],
   "source": [
    "from ydata_profiling import ProfileReport\n",
    "profile = ProfileReport(pts_subset, title=\"patients\")\n",
    "profile.to_file(\"your_report_subset.html\")"
   ]
  },
  {
   "cell_type": "code",
   "execution_count": null,
   "id": "6c411186-09c4-49e9-8ddf-8dac934b81b2",
   "metadata": {},
   "outputs": [],
   "source": []
  }
 ],
 "metadata": {
  "kernelspec": {
   "display_name": "Python 3 (ipykernel)",
   "language": "python",
   "name": "python3"
  },
  "language_info": {
   "codemirror_mode": {
    "name": "ipython",
    "version": 3
   },
   "file_extension": ".py",
   "mimetype": "text/x-python",
   "name": "python",
   "nbconvert_exporter": "python",
   "pygments_lexer": "ipython3",
   "version": "3.8.5"
  }
 },
 "nbformat": 4,
 "nbformat_minor": 5
}
